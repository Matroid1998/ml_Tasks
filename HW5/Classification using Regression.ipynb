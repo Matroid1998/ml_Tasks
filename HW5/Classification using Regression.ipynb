{
  "nbformat": 4,
  "nbformat_minor": 0,
  "metadata": {
    "colab": {
      "provenance": []
    },
    "kernelspec": {
      "name": "python3",
      "display_name": "Python 3"
    },
    "language_info": {
      "name": "python"
    }
  },
  "cells": [
    {
      "cell_type": "code",
      "execution_count": 186,
      "metadata": {
        "id": "KN2XWwfjyk47"
      },
      "outputs": [],
      "source": [
        "import numpy as np\n",
        "import pandas as pd\n",
        "import matplotlib.pyplot as plt\n"
      ]
    },
    {
      "cell_type": "code",
      "source": [
        "train = pd.read_csv('train_std.csv')\n",
        "test = pd.read_csv('test_std.csv')"
      ],
      "metadata": {
        "id": "3gVfy-VHzTzV"
      },
      "execution_count": 113,
      "outputs": []
    },
    {
      "cell_type": "code",
      "source": [
        "test"
      ],
      "metadata": {
        "colab": {
          "base_uri": "https://localhost:8080/",
          "height": 676
        },
        "id": "DQUTUIXjzU_z",
        "outputId": "ca6d14af-5c8f-4561-cc0b-e7292fb555ef"
      },
      "execution_count": 114,
      "outputs": [
        {
          "output_type": "execute_result",
          "data": {
            "text/plain": [
              "      Unnamed: 0       age         workclass    fnlwgt     education  \\\n",
              "0              0  0.265512           Private  1.473955     Bachelors   \n",
              "1              1 -0.504407           Private -0.156035       HS-grad   \n",
              "2              2 -0.504407  Self-emp-not-inc  0.004215       HS-grad   \n",
              "3              3 -0.581399           Private -0.464712  Some-college   \n",
              "4              4 -1.043350           Private  1.434394  Some-college   \n",
              "...          ...       ...               ...       ...           ...   \n",
              "7008        7008 -0.427415  Self-emp-not-inc -1.412726    Assoc-acdm   \n",
              "7009        7009 -0.119448           Private  2.878413     Bachelors   \n",
              "7010        7010 -1.582294           Private  0.324610       HS-grad   \n",
              "7011        7011 -0.812375         State-gov -0.606314     Bachelors   \n",
              "7012        7012  0.573479         Local-gov  0.141268     Doctorate   \n",
              "\n",
              "      educational-num         marital-status       occupation    relationship  \\\n",
              "0            0.914561          Never-married    Other-service   Not-in-family   \n",
              "1           -0.614396              Separated     Adm-clerical       Unmarried   \n",
              "2           -0.614396     Married-civ-spouse     Craft-repair         Husband   \n",
              "3           -0.232156               Divorced    Other-service   Not-in-family   \n",
              "4           -0.232156          Never-married    Other-service   Not-in-family   \n",
              "...               ...                    ...              ...             ...   \n",
              "7008         0.532322     Married-civ-spouse     Craft-repair         Husband   \n",
              "7009         0.914561          Never-married  Exec-managerial  Other-relative   \n",
              "7010        -0.614396          Never-married    Other-service       Own-child   \n",
              "7011         0.914561  Married-spouse-absent     Adm-clerical   Not-in-family   \n",
              "7012         2.061279     Married-civ-spouse   Prof-specialty         Husband   \n",
              "\n",
              "       race  gender  hours-per-week native-country  \n",
              "0     White    Male       -0.163839  United-States  \n",
              "1     White  Female       -0.163839  United-States  \n",
              "2     White    Male       -0.163839  United-States  \n",
              "3     White  Female        0.658724  United-States  \n",
              "4     White    Male       -0.328351         Mexico  \n",
              "...     ...     ...             ...            ...  \n",
              "7008  White    Male       -0.163839  United-States  \n",
              "7009  Black    Male        0.247443  United-States  \n",
              "7010  White    Male       -1.562196  United-States  \n",
              "7011  White    Male       -0.163839  United-States  \n",
              "7012  White    Male        0.247443         Canada  \n",
              "\n",
              "[7013 rows x 13 columns]"
            ],
            "text/html": [
              "\n",
              "  <div id=\"df-2f996cc5-881b-4670-919c-cdafed880758\">\n",
              "    <div class=\"colab-df-container\">\n",
              "      <div>\n",
              "<style scoped>\n",
              "    .dataframe tbody tr th:only-of-type {\n",
              "        vertical-align: middle;\n",
              "    }\n",
              "\n",
              "    .dataframe tbody tr th {\n",
              "        vertical-align: top;\n",
              "    }\n",
              "\n",
              "    .dataframe thead th {\n",
              "        text-align: right;\n",
              "    }\n",
              "</style>\n",
              "<table border=\"1\" class=\"dataframe\">\n",
              "  <thead>\n",
              "    <tr style=\"text-align: right;\">\n",
              "      <th></th>\n",
              "      <th>Unnamed: 0</th>\n",
              "      <th>age</th>\n",
              "      <th>workclass</th>\n",
              "      <th>fnlwgt</th>\n",
              "      <th>education</th>\n",
              "      <th>educational-num</th>\n",
              "      <th>marital-status</th>\n",
              "      <th>occupation</th>\n",
              "      <th>relationship</th>\n",
              "      <th>race</th>\n",
              "      <th>gender</th>\n",
              "      <th>hours-per-week</th>\n",
              "      <th>native-country</th>\n",
              "    </tr>\n",
              "  </thead>\n",
              "  <tbody>\n",
              "    <tr>\n",
              "      <th>0</th>\n",
              "      <td>0</td>\n",
              "      <td>0.265512</td>\n",
              "      <td>Private</td>\n",
              "      <td>1.473955</td>\n",
              "      <td>Bachelors</td>\n",
              "      <td>0.914561</td>\n",
              "      <td>Never-married</td>\n",
              "      <td>Other-service</td>\n",
              "      <td>Not-in-family</td>\n",
              "      <td>White</td>\n",
              "      <td>Male</td>\n",
              "      <td>-0.163839</td>\n",
              "      <td>United-States</td>\n",
              "    </tr>\n",
              "    <tr>\n",
              "      <th>1</th>\n",
              "      <td>1</td>\n",
              "      <td>-0.504407</td>\n",
              "      <td>Private</td>\n",
              "      <td>-0.156035</td>\n",
              "      <td>HS-grad</td>\n",
              "      <td>-0.614396</td>\n",
              "      <td>Separated</td>\n",
              "      <td>Adm-clerical</td>\n",
              "      <td>Unmarried</td>\n",
              "      <td>White</td>\n",
              "      <td>Female</td>\n",
              "      <td>-0.163839</td>\n",
              "      <td>United-States</td>\n",
              "    </tr>\n",
              "    <tr>\n",
              "      <th>2</th>\n",
              "      <td>2</td>\n",
              "      <td>-0.504407</td>\n",
              "      <td>Self-emp-not-inc</td>\n",
              "      <td>0.004215</td>\n",
              "      <td>HS-grad</td>\n",
              "      <td>-0.614396</td>\n",
              "      <td>Married-civ-spouse</td>\n",
              "      <td>Craft-repair</td>\n",
              "      <td>Husband</td>\n",
              "      <td>White</td>\n",
              "      <td>Male</td>\n",
              "      <td>-0.163839</td>\n",
              "      <td>United-States</td>\n",
              "    </tr>\n",
              "    <tr>\n",
              "      <th>3</th>\n",
              "      <td>3</td>\n",
              "      <td>-0.581399</td>\n",
              "      <td>Private</td>\n",
              "      <td>-0.464712</td>\n",
              "      <td>Some-college</td>\n",
              "      <td>-0.232156</td>\n",
              "      <td>Divorced</td>\n",
              "      <td>Other-service</td>\n",
              "      <td>Not-in-family</td>\n",
              "      <td>White</td>\n",
              "      <td>Female</td>\n",
              "      <td>0.658724</td>\n",
              "      <td>United-States</td>\n",
              "    </tr>\n",
              "    <tr>\n",
              "      <th>4</th>\n",
              "      <td>4</td>\n",
              "      <td>-1.043350</td>\n",
              "      <td>Private</td>\n",
              "      <td>1.434394</td>\n",
              "      <td>Some-college</td>\n",
              "      <td>-0.232156</td>\n",
              "      <td>Never-married</td>\n",
              "      <td>Other-service</td>\n",
              "      <td>Not-in-family</td>\n",
              "      <td>White</td>\n",
              "      <td>Male</td>\n",
              "      <td>-0.328351</td>\n",
              "      <td>Mexico</td>\n",
              "    </tr>\n",
              "    <tr>\n",
              "      <th>...</th>\n",
              "      <td>...</td>\n",
              "      <td>...</td>\n",
              "      <td>...</td>\n",
              "      <td>...</td>\n",
              "      <td>...</td>\n",
              "      <td>...</td>\n",
              "      <td>...</td>\n",
              "      <td>...</td>\n",
              "      <td>...</td>\n",
              "      <td>...</td>\n",
              "      <td>...</td>\n",
              "      <td>...</td>\n",
              "      <td>...</td>\n",
              "    </tr>\n",
              "    <tr>\n",
              "      <th>7008</th>\n",
              "      <td>7008</td>\n",
              "      <td>-0.427415</td>\n",
              "      <td>Self-emp-not-inc</td>\n",
              "      <td>-1.412726</td>\n",
              "      <td>Assoc-acdm</td>\n",
              "      <td>0.532322</td>\n",
              "      <td>Married-civ-spouse</td>\n",
              "      <td>Craft-repair</td>\n",
              "      <td>Husband</td>\n",
              "      <td>White</td>\n",
              "      <td>Male</td>\n",
              "      <td>-0.163839</td>\n",
              "      <td>United-States</td>\n",
              "    </tr>\n",
              "    <tr>\n",
              "      <th>7009</th>\n",
              "      <td>7009</td>\n",
              "      <td>-0.119448</td>\n",
              "      <td>Private</td>\n",
              "      <td>2.878413</td>\n",
              "      <td>Bachelors</td>\n",
              "      <td>0.914561</td>\n",
              "      <td>Never-married</td>\n",
              "      <td>Exec-managerial</td>\n",
              "      <td>Other-relative</td>\n",
              "      <td>Black</td>\n",
              "      <td>Male</td>\n",
              "      <td>0.247443</td>\n",
              "      <td>United-States</td>\n",
              "    </tr>\n",
              "    <tr>\n",
              "      <th>7010</th>\n",
              "      <td>7010</td>\n",
              "      <td>-1.582294</td>\n",
              "      <td>Private</td>\n",
              "      <td>0.324610</td>\n",
              "      <td>HS-grad</td>\n",
              "      <td>-0.614396</td>\n",
              "      <td>Never-married</td>\n",
              "      <td>Other-service</td>\n",
              "      <td>Own-child</td>\n",
              "      <td>White</td>\n",
              "      <td>Male</td>\n",
              "      <td>-1.562196</td>\n",
              "      <td>United-States</td>\n",
              "    </tr>\n",
              "    <tr>\n",
              "      <th>7011</th>\n",
              "      <td>7011</td>\n",
              "      <td>-0.812375</td>\n",
              "      <td>State-gov</td>\n",
              "      <td>-0.606314</td>\n",
              "      <td>Bachelors</td>\n",
              "      <td>0.914561</td>\n",
              "      <td>Married-spouse-absent</td>\n",
              "      <td>Adm-clerical</td>\n",
              "      <td>Not-in-family</td>\n",
              "      <td>White</td>\n",
              "      <td>Male</td>\n",
              "      <td>-0.163839</td>\n",
              "      <td>United-States</td>\n",
              "    </tr>\n",
              "    <tr>\n",
              "      <th>7012</th>\n",
              "      <td>7012</td>\n",
              "      <td>0.573479</td>\n",
              "      <td>Local-gov</td>\n",
              "      <td>0.141268</td>\n",
              "      <td>Doctorate</td>\n",
              "      <td>2.061279</td>\n",
              "      <td>Married-civ-spouse</td>\n",
              "      <td>Prof-specialty</td>\n",
              "      <td>Husband</td>\n",
              "      <td>White</td>\n",
              "      <td>Male</td>\n",
              "      <td>0.247443</td>\n",
              "      <td>Canada</td>\n",
              "    </tr>\n",
              "  </tbody>\n",
              "</table>\n",
              "<p>7013 rows × 13 columns</p>\n",
              "</div>\n",
              "      <button class=\"colab-df-convert\" onclick=\"convertToInteractive('df-2f996cc5-881b-4670-919c-cdafed880758')\"\n",
              "              title=\"Convert this dataframe to an interactive table.\"\n",
              "              style=\"display:none;\">\n",
              "        \n",
              "  <svg xmlns=\"http://www.w3.org/2000/svg\" height=\"24px\"viewBox=\"0 0 24 24\"\n",
              "       width=\"24px\">\n",
              "    <path d=\"M0 0h24v24H0V0z\" fill=\"none\"/>\n",
              "    <path d=\"M18.56 5.44l.94 2.06.94-2.06 2.06-.94-2.06-.94-.94-2.06-.94 2.06-2.06.94zm-11 1L8.5 8.5l.94-2.06 2.06-.94-2.06-.94L8.5 2.5l-.94 2.06-2.06.94zm10 10l.94 2.06.94-2.06 2.06-.94-2.06-.94-.94-2.06-.94 2.06-2.06.94z\"/><path d=\"M17.41 7.96l-1.37-1.37c-.4-.4-.92-.59-1.43-.59-.52 0-1.04.2-1.43.59L10.3 9.45l-7.72 7.72c-.78.78-.78 2.05 0 2.83L4 21.41c.39.39.9.59 1.41.59.51 0 1.02-.2 1.41-.59l7.78-7.78 2.81-2.81c.8-.78.8-2.07 0-2.86zM5.41 20L4 18.59l7.72-7.72 1.47 1.35L5.41 20z\"/>\n",
              "  </svg>\n",
              "      </button>\n",
              "      \n",
              "  <style>\n",
              "    .colab-df-container {\n",
              "      display:flex;\n",
              "      flex-wrap:wrap;\n",
              "      gap: 12px;\n",
              "    }\n",
              "\n",
              "    .colab-df-convert {\n",
              "      background-color: #E8F0FE;\n",
              "      border: none;\n",
              "      border-radius: 50%;\n",
              "      cursor: pointer;\n",
              "      display: none;\n",
              "      fill: #1967D2;\n",
              "      height: 32px;\n",
              "      padding: 0 0 0 0;\n",
              "      width: 32px;\n",
              "    }\n",
              "\n",
              "    .colab-df-convert:hover {\n",
              "      background-color: #E2EBFA;\n",
              "      box-shadow: 0px 1px 2px rgba(60, 64, 67, 0.3), 0px 1px 3px 1px rgba(60, 64, 67, 0.15);\n",
              "      fill: #174EA6;\n",
              "    }\n",
              "\n",
              "    [theme=dark] .colab-df-convert {\n",
              "      background-color: #3B4455;\n",
              "      fill: #D2E3FC;\n",
              "    }\n",
              "\n",
              "    [theme=dark] .colab-df-convert:hover {\n",
              "      background-color: #434B5C;\n",
              "      box-shadow: 0px 1px 3px 1px rgba(0, 0, 0, 0.15);\n",
              "      filter: drop-shadow(0px 1px 2px rgba(0, 0, 0, 0.3));\n",
              "      fill: #FFFFFF;\n",
              "    }\n",
              "  </style>\n",
              "\n",
              "      <script>\n",
              "        const buttonEl =\n",
              "          document.querySelector('#df-2f996cc5-881b-4670-919c-cdafed880758 button.colab-df-convert');\n",
              "        buttonEl.style.display =\n",
              "          google.colab.kernel.accessAllowed ? 'block' : 'none';\n",
              "\n",
              "        async function convertToInteractive(key) {\n",
              "          const element = document.querySelector('#df-2f996cc5-881b-4670-919c-cdafed880758');\n",
              "          const dataTable =\n",
              "            await google.colab.kernel.invokeFunction('convertToInteractive',\n",
              "                                                     [key], {});\n",
              "          if (!dataTable) return;\n",
              "\n",
              "          const docLinkHtml = 'Like what you see? Visit the ' +\n",
              "            '<a target=\"_blank\" href=https://colab.research.google.com/notebooks/data_table.ipynb>data table notebook</a>'\n",
              "            + ' to learn more about interactive tables.';\n",
              "          element.innerHTML = '';\n",
              "          dataTable['output_type'] = 'display_data';\n",
              "          await google.colab.output.renderOutput(dataTable, element);\n",
              "          const docLink = document.createElement('div');\n",
              "          docLink.innerHTML = docLinkHtml;\n",
              "          element.appendChild(docLink);\n",
              "        }\n",
              "      </script>\n",
              "    </div>\n",
              "  </div>\n",
              "  "
            ]
          },
          "metadata": {},
          "execution_count": 114
        }
      ]
    },
    {
      "cell_type": "code",
      "source": [
        "train.info()"
      ],
      "metadata": {
        "colab": {
          "base_uri": "https://localhost:8080/"
        },
        "id": "0oMVpuSuzW25",
        "outputId": "af27caf3-d8fe-449d-8e14-37adf0577286"
      },
      "execution_count": 115,
      "outputs": [
        {
          "output_type": "stream",
          "name": "stdout",
          "text": [
            "<class 'pandas.core.frame.DataFrame'>\n",
            "RangeIndex: 16361 entries, 0 to 16360\n",
            "Data columns (total 14 columns):\n",
            " #   Column           Non-Null Count  Dtype  \n",
            "---  ------           --------------  -----  \n",
            " 0   Unnamed: 0       16361 non-null  int64  \n",
            " 1   age              16361 non-null  float64\n",
            " 2   workclass        16361 non-null  object \n",
            " 3   fnlwgt           16361 non-null  float64\n",
            " 4   education        16361 non-null  object \n",
            " 5   educational-num  16361 non-null  float64\n",
            " 6   marital-status   16361 non-null  object \n",
            " 7   occupation       16361 non-null  object \n",
            " 8   relationship     16361 non-null  object \n",
            " 9   race             16361 non-null  object \n",
            " 10  gender           16361 non-null  object \n",
            " 11  hours-per-week   16361 non-null  float64\n",
            " 12  native-country   16361 non-null  object \n",
            " 13  income           16361 non-null  float64\n",
            "dtypes: float64(5), int64(1), object(8)\n",
            "memory usage: 1.7+ MB\n"
          ]
        }
      ]
    },
    {
      "cell_type": "code",
      "source": [
        "X = train.drop(columns=['income'])"
      ],
      "metadata": {
        "id": "-ve-BZE6zuFY"
      },
      "execution_count": 116,
      "outputs": []
    },
    {
      "cell_type": "code",
      "source": [
        "train_test = pd.concat([X,test],axis = 0)"
      ],
      "metadata": {
        "id": "J0b90FZmz6f_"
      },
      "execution_count": 117,
      "outputs": []
    },
    {
      "cell_type": "code",
      "source": [
        "train_test= train_test.replace('Male',0)\n",
        "train_test = train_test.replace('Female',1)"
      ],
      "metadata": {
        "id": "AJrbR-ma4Q9h"
      },
      "execution_count": 118,
      "outputs": []
    },
    {
      "cell_type": "code",
      "source": [
        "train_test"
      ],
      "metadata": {
        "colab": {
          "base_uri": "https://localhost:8080/",
          "height": 676
        },
        "id": "e_nDLQ-q5nQj",
        "outputId": "af397f32-d051-4127-d0ef-61ed3f4d4af0"
      },
      "execution_count": 119,
      "outputs": [
        {
          "output_type": "execute_result",
          "data": {
            "text/plain": [
              "      Unnamed: 0       age         workclass    fnlwgt     education  \\\n",
              "0              0 -1.274326           Private  1.971346  Some-college   \n",
              "1              1  0.188520           Private -1.582668  Some-college   \n",
              "2              2  0.419495       Federal-gov -0.470112  Some-college   \n",
              "3              3  1.574374                 ? -1.131500       HS-grad   \n",
              "4              4 -0.581399           Private  0.677980  Some-college   \n",
              "...          ...       ...               ...       ...           ...   \n",
              "7008        7008 -0.427415  Self-emp-not-inc -1.412726    Assoc-acdm   \n",
              "7009        7009 -0.119448           Private  2.878413     Bachelors   \n",
              "7010        7010 -1.582294           Private  0.324610       HS-grad   \n",
              "7011        7011 -0.812375         State-gov -0.606314     Bachelors   \n",
              "7012        7012  0.573479         Local-gov  0.141268     Doctorate   \n",
              "\n",
              "      educational-num         marital-status       occupation    relationship  \\\n",
              "0           -0.232156          Never-married     Adm-clerical   Not-in-family   \n",
              "1           -0.232156     Married-civ-spouse   Prof-specialty         Husband   \n",
              "2           -0.232156     Married-civ-spouse  Exec-managerial         Husband   \n",
              "3           -0.614396     Married-civ-spouse                ?         Husband   \n",
              "4           -0.232156     Married-civ-spouse     Craft-repair         Husband   \n",
              "...               ...                    ...              ...             ...   \n",
              "7008         0.532322     Married-civ-spouse     Craft-repair         Husband   \n",
              "7009         0.914561          Never-married  Exec-managerial  Other-relative   \n",
              "7010        -0.614396          Never-married    Other-service       Own-child   \n",
              "7011         0.914561  Married-spouse-absent     Adm-clerical   Not-in-family   \n",
              "7012         2.061279     Married-civ-spouse   Prof-specialty         Husband   \n",
              "\n",
              "       race  gender  hours-per-week native-country  \n",
              "0     White       1       -0.163839  United-States  \n",
              "1     White       0       -0.163839  United-States  \n",
              "2     White       0        0.494211  United-States  \n",
              "3     White       0       -0.163839  United-States  \n",
              "4     White       0       -0.081583  United-States  \n",
              "...     ...     ...             ...            ...  \n",
              "7008  White       0       -0.163839  United-States  \n",
              "7009  Black       0        0.247443  United-States  \n",
              "7010  White       0       -1.562196  United-States  \n",
              "7011  White       0       -0.163839  United-States  \n",
              "7012  White       0        0.247443         Canada  \n",
              "\n",
              "[23374 rows x 13 columns]"
            ],
            "text/html": [
              "\n",
              "  <div id=\"df-e90df3fe-bfc2-4f9e-acea-e62f624b8cbf\">\n",
              "    <div class=\"colab-df-container\">\n",
              "      <div>\n",
              "<style scoped>\n",
              "    .dataframe tbody tr th:only-of-type {\n",
              "        vertical-align: middle;\n",
              "    }\n",
              "\n",
              "    .dataframe tbody tr th {\n",
              "        vertical-align: top;\n",
              "    }\n",
              "\n",
              "    .dataframe thead th {\n",
              "        text-align: right;\n",
              "    }\n",
              "</style>\n",
              "<table border=\"1\" class=\"dataframe\">\n",
              "  <thead>\n",
              "    <tr style=\"text-align: right;\">\n",
              "      <th></th>\n",
              "      <th>Unnamed: 0</th>\n",
              "      <th>age</th>\n",
              "      <th>workclass</th>\n",
              "      <th>fnlwgt</th>\n",
              "      <th>education</th>\n",
              "      <th>educational-num</th>\n",
              "      <th>marital-status</th>\n",
              "      <th>occupation</th>\n",
              "      <th>relationship</th>\n",
              "      <th>race</th>\n",
              "      <th>gender</th>\n",
              "      <th>hours-per-week</th>\n",
              "      <th>native-country</th>\n",
              "    </tr>\n",
              "  </thead>\n",
              "  <tbody>\n",
              "    <tr>\n",
              "      <th>0</th>\n",
              "      <td>0</td>\n",
              "      <td>-1.274326</td>\n",
              "      <td>Private</td>\n",
              "      <td>1.971346</td>\n",
              "      <td>Some-college</td>\n",
              "      <td>-0.232156</td>\n",
              "      <td>Never-married</td>\n",
              "      <td>Adm-clerical</td>\n",
              "      <td>Not-in-family</td>\n",
              "      <td>White</td>\n",
              "      <td>1</td>\n",
              "      <td>-0.163839</td>\n",
              "      <td>United-States</td>\n",
              "    </tr>\n",
              "    <tr>\n",
              "      <th>1</th>\n",
              "      <td>1</td>\n",
              "      <td>0.188520</td>\n",
              "      <td>Private</td>\n",
              "      <td>-1.582668</td>\n",
              "      <td>Some-college</td>\n",
              "      <td>-0.232156</td>\n",
              "      <td>Married-civ-spouse</td>\n",
              "      <td>Prof-specialty</td>\n",
              "      <td>Husband</td>\n",
              "      <td>White</td>\n",
              "      <td>0</td>\n",
              "      <td>-0.163839</td>\n",
              "      <td>United-States</td>\n",
              "    </tr>\n",
              "    <tr>\n",
              "      <th>2</th>\n",
              "      <td>2</td>\n",
              "      <td>0.419495</td>\n",
              "      <td>Federal-gov</td>\n",
              "      <td>-0.470112</td>\n",
              "      <td>Some-college</td>\n",
              "      <td>-0.232156</td>\n",
              "      <td>Married-civ-spouse</td>\n",
              "      <td>Exec-managerial</td>\n",
              "      <td>Husband</td>\n",
              "      <td>White</td>\n",
              "      <td>0</td>\n",
              "      <td>0.494211</td>\n",
              "      <td>United-States</td>\n",
              "    </tr>\n",
              "    <tr>\n",
              "      <th>3</th>\n",
              "      <td>3</td>\n",
              "      <td>1.574374</td>\n",
              "      <td>?</td>\n",
              "      <td>-1.131500</td>\n",
              "      <td>HS-grad</td>\n",
              "      <td>-0.614396</td>\n",
              "      <td>Married-civ-spouse</td>\n",
              "      <td>?</td>\n",
              "      <td>Husband</td>\n",
              "      <td>White</td>\n",
              "      <td>0</td>\n",
              "      <td>-0.163839</td>\n",
              "      <td>United-States</td>\n",
              "    </tr>\n",
              "    <tr>\n",
              "      <th>4</th>\n",
              "      <td>4</td>\n",
              "      <td>-0.581399</td>\n",
              "      <td>Private</td>\n",
              "      <td>0.677980</td>\n",
              "      <td>Some-college</td>\n",
              "      <td>-0.232156</td>\n",
              "      <td>Married-civ-spouse</td>\n",
              "      <td>Craft-repair</td>\n",
              "      <td>Husband</td>\n",
              "      <td>White</td>\n",
              "      <td>0</td>\n",
              "      <td>-0.081583</td>\n",
              "      <td>United-States</td>\n",
              "    </tr>\n",
              "    <tr>\n",
              "      <th>...</th>\n",
              "      <td>...</td>\n",
              "      <td>...</td>\n",
              "      <td>...</td>\n",
              "      <td>...</td>\n",
              "      <td>...</td>\n",
              "      <td>...</td>\n",
              "      <td>...</td>\n",
              "      <td>...</td>\n",
              "      <td>...</td>\n",
              "      <td>...</td>\n",
              "      <td>...</td>\n",
              "      <td>...</td>\n",
              "      <td>...</td>\n",
              "    </tr>\n",
              "    <tr>\n",
              "      <th>7008</th>\n",
              "      <td>7008</td>\n",
              "      <td>-0.427415</td>\n",
              "      <td>Self-emp-not-inc</td>\n",
              "      <td>-1.412726</td>\n",
              "      <td>Assoc-acdm</td>\n",
              "      <td>0.532322</td>\n",
              "      <td>Married-civ-spouse</td>\n",
              "      <td>Craft-repair</td>\n",
              "      <td>Husband</td>\n",
              "      <td>White</td>\n",
              "      <td>0</td>\n",
              "      <td>-0.163839</td>\n",
              "      <td>United-States</td>\n",
              "    </tr>\n",
              "    <tr>\n",
              "      <th>7009</th>\n",
              "      <td>7009</td>\n",
              "      <td>-0.119448</td>\n",
              "      <td>Private</td>\n",
              "      <td>2.878413</td>\n",
              "      <td>Bachelors</td>\n",
              "      <td>0.914561</td>\n",
              "      <td>Never-married</td>\n",
              "      <td>Exec-managerial</td>\n",
              "      <td>Other-relative</td>\n",
              "      <td>Black</td>\n",
              "      <td>0</td>\n",
              "      <td>0.247443</td>\n",
              "      <td>United-States</td>\n",
              "    </tr>\n",
              "    <tr>\n",
              "      <th>7010</th>\n",
              "      <td>7010</td>\n",
              "      <td>-1.582294</td>\n",
              "      <td>Private</td>\n",
              "      <td>0.324610</td>\n",
              "      <td>HS-grad</td>\n",
              "      <td>-0.614396</td>\n",
              "      <td>Never-married</td>\n",
              "      <td>Other-service</td>\n",
              "      <td>Own-child</td>\n",
              "      <td>White</td>\n",
              "      <td>0</td>\n",
              "      <td>-1.562196</td>\n",
              "      <td>United-States</td>\n",
              "    </tr>\n",
              "    <tr>\n",
              "      <th>7011</th>\n",
              "      <td>7011</td>\n",
              "      <td>-0.812375</td>\n",
              "      <td>State-gov</td>\n",
              "      <td>-0.606314</td>\n",
              "      <td>Bachelors</td>\n",
              "      <td>0.914561</td>\n",
              "      <td>Married-spouse-absent</td>\n",
              "      <td>Adm-clerical</td>\n",
              "      <td>Not-in-family</td>\n",
              "      <td>White</td>\n",
              "      <td>0</td>\n",
              "      <td>-0.163839</td>\n",
              "      <td>United-States</td>\n",
              "    </tr>\n",
              "    <tr>\n",
              "      <th>7012</th>\n",
              "      <td>7012</td>\n",
              "      <td>0.573479</td>\n",
              "      <td>Local-gov</td>\n",
              "      <td>0.141268</td>\n",
              "      <td>Doctorate</td>\n",
              "      <td>2.061279</td>\n",
              "      <td>Married-civ-spouse</td>\n",
              "      <td>Prof-specialty</td>\n",
              "      <td>Husband</td>\n",
              "      <td>White</td>\n",
              "      <td>0</td>\n",
              "      <td>0.247443</td>\n",
              "      <td>Canada</td>\n",
              "    </tr>\n",
              "  </tbody>\n",
              "</table>\n",
              "<p>23374 rows × 13 columns</p>\n",
              "</div>\n",
              "      <button class=\"colab-df-convert\" onclick=\"convertToInteractive('df-e90df3fe-bfc2-4f9e-acea-e62f624b8cbf')\"\n",
              "              title=\"Convert this dataframe to an interactive table.\"\n",
              "              style=\"display:none;\">\n",
              "        \n",
              "  <svg xmlns=\"http://www.w3.org/2000/svg\" height=\"24px\"viewBox=\"0 0 24 24\"\n",
              "       width=\"24px\">\n",
              "    <path d=\"M0 0h24v24H0V0z\" fill=\"none\"/>\n",
              "    <path d=\"M18.56 5.44l.94 2.06.94-2.06 2.06-.94-2.06-.94-.94-2.06-.94 2.06-2.06.94zm-11 1L8.5 8.5l.94-2.06 2.06-.94-2.06-.94L8.5 2.5l-.94 2.06-2.06.94zm10 10l.94 2.06.94-2.06 2.06-.94-2.06-.94-.94-2.06-.94 2.06-2.06.94z\"/><path d=\"M17.41 7.96l-1.37-1.37c-.4-.4-.92-.59-1.43-.59-.52 0-1.04.2-1.43.59L10.3 9.45l-7.72 7.72c-.78.78-.78 2.05 0 2.83L4 21.41c.39.39.9.59 1.41.59.51 0 1.02-.2 1.41-.59l7.78-7.78 2.81-2.81c.8-.78.8-2.07 0-2.86zM5.41 20L4 18.59l7.72-7.72 1.47 1.35L5.41 20z\"/>\n",
              "  </svg>\n",
              "      </button>\n",
              "      \n",
              "  <style>\n",
              "    .colab-df-container {\n",
              "      display:flex;\n",
              "      flex-wrap:wrap;\n",
              "      gap: 12px;\n",
              "    }\n",
              "\n",
              "    .colab-df-convert {\n",
              "      background-color: #E8F0FE;\n",
              "      border: none;\n",
              "      border-radius: 50%;\n",
              "      cursor: pointer;\n",
              "      display: none;\n",
              "      fill: #1967D2;\n",
              "      height: 32px;\n",
              "      padding: 0 0 0 0;\n",
              "      width: 32px;\n",
              "    }\n",
              "\n",
              "    .colab-df-convert:hover {\n",
              "      background-color: #E2EBFA;\n",
              "      box-shadow: 0px 1px 2px rgba(60, 64, 67, 0.3), 0px 1px 3px 1px rgba(60, 64, 67, 0.15);\n",
              "      fill: #174EA6;\n",
              "    }\n",
              "\n",
              "    [theme=dark] .colab-df-convert {\n",
              "      background-color: #3B4455;\n",
              "      fill: #D2E3FC;\n",
              "    }\n",
              "\n",
              "    [theme=dark] .colab-df-convert:hover {\n",
              "      background-color: #434B5C;\n",
              "      box-shadow: 0px 1px 3px 1px rgba(0, 0, 0, 0.15);\n",
              "      filter: drop-shadow(0px 1px 2px rgba(0, 0, 0, 0.3));\n",
              "      fill: #FFFFFF;\n",
              "    }\n",
              "  </style>\n",
              "\n",
              "      <script>\n",
              "        const buttonEl =\n",
              "          document.querySelector('#df-e90df3fe-bfc2-4f9e-acea-e62f624b8cbf button.colab-df-convert');\n",
              "        buttonEl.style.display =\n",
              "          google.colab.kernel.accessAllowed ? 'block' : 'none';\n",
              "\n",
              "        async function convertToInteractive(key) {\n",
              "          const element = document.querySelector('#df-e90df3fe-bfc2-4f9e-acea-e62f624b8cbf');\n",
              "          const dataTable =\n",
              "            await google.colab.kernel.invokeFunction('convertToInteractive',\n",
              "                                                     [key], {});\n",
              "          if (!dataTable) return;\n",
              "\n",
              "          const docLinkHtml = 'Like what you see? Visit the ' +\n",
              "            '<a target=\"_blank\" href=https://colab.research.google.com/notebooks/data_table.ipynb>data table notebook</a>'\n",
              "            + ' to learn more about interactive tables.';\n",
              "          element.innerHTML = '';\n",
              "          dataTable['output_type'] = 'display_data';\n",
              "          await google.colab.output.renderOutput(dataTable, element);\n",
              "          const docLink = document.createElement('div');\n",
              "          docLink.innerHTML = docLinkHtml;\n",
              "          element.appendChild(docLink);\n",
              "        }\n",
              "      </script>\n",
              "    </div>\n",
              "  </div>\n",
              "  "
            ]
          },
          "metadata": {},
          "execution_count": 119
        }
      ]
    },
    {
      "cell_type": "code",
      "source": [
        "gen = train_test['gender']"
      ],
      "metadata": {
        "id": "GZBrxw468l7y"
      },
      "execution_count": 120,
      "outputs": []
    },
    {
      "cell_type": "code",
      "source": [
        "train_test = train_test.drop(columns = ['education','Unnamed: 0','gender'])"
      ],
      "metadata": {
        "id": "uo3c1ymN8shc"
      },
      "execution_count": 121,
      "outputs": []
    },
    {
      "cell_type": "code",
      "source": [
        "train_test"
      ],
      "metadata": {
        "colab": {
          "base_uri": "https://localhost:8080/",
          "height": 554
        },
        "id": "8ChrtziI9Hks",
        "outputId": "b48f67b1-6f39-4a7d-f231-89dece9e1366"
      },
      "execution_count": 122,
      "outputs": [
        {
          "output_type": "execute_result",
          "data": {
            "text/plain": [
              "           age         workclass    fnlwgt  educational-num  \\\n",
              "0    -1.274326           Private  1.971346        -0.232156   \n",
              "1     0.188520           Private -1.582668        -0.232156   \n",
              "2     0.419495       Federal-gov -0.470112        -0.232156   \n",
              "3     1.574374                 ? -1.131500        -0.614396   \n",
              "4    -0.581399           Private  0.677980        -0.232156   \n",
              "...        ...               ...       ...              ...   \n",
              "7008 -0.427415  Self-emp-not-inc -1.412726         0.532322   \n",
              "7009 -0.119448           Private  2.878413         0.914561   \n",
              "7010 -1.582294           Private  0.324610        -0.614396   \n",
              "7011 -0.812375         State-gov -0.606314         0.914561   \n",
              "7012  0.573479         Local-gov  0.141268         2.061279   \n",
              "\n",
              "             marital-status       occupation    relationship   race  \\\n",
              "0             Never-married     Adm-clerical   Not-in-family  White   \n",
              "1        Married-civ-spouse   Prof-specialty         Husband  White   \n",
              "2        Married-civ-spouse  Exec-managerial         Husband  White   \n",
              "3        Married-civ-spouse                ?         Husband  White   \n",
              "4        Married-civ-spouse     Craft-repair         Husband  White   \n",
              "...                     ...              ...             ...    ...   \n",
              "7008     Married-civ-spouse     Craft-repair         Husband  White   \n",
              "7009          Never-married  Exec-managerial  Other-relative  Black   \n",
              "7010          Never-married    Other-service       Own-child  White   \n",
              "7011  Married-spouse-absent     Adm-clerical   Not-in-family  White   \n",
              "7012     Married-civ-spouse   Prof-specialty         Husband  White   \n",
              "\n",
              "      hours-per-week native-country  \n",
              "0          -0.163839  United-States  \n",
              "1          -0.163839  United-States  \n",
              "2           0.494211  United-States  \n",
              "3          -0.163839  United-States  \n",
              "4          -0.081583  United-States  \n",
              "...              ...            ...  \n",
              "7008       -0.163839  United-States  \n",
              "7009        0.247443  United-States  \n",
              "7010       -1.562196  United-States  \n",
              "7011       -0.163839  United-States  \n",
              "7012        0.247443         Canada  \n",
              "\n",
              "[23374 rows x 10 columns]"
            ],
            "text/html": [
              "\n",
              "  <div id=\"df-f01fe9b9-b646-4b1e-941a-f4a62d0e894d\">\n",
              "    <div class=\"colab-df-container\">\n",
              "      <div>\n",
              "<style scoped>\n",
              "    .dataframe tbody tr th:only-of-type {\n",
              "        vertical-align: middle;\n",
              "    }\n",
              "\n",
              "    .dataframe tbody tr th {\n",
              "        vertical-align: top;\n",
              "    }\n",
              "\n",
              "    .dataframe thead th {\n",
              "        text-align: right;\n",
              "    }\n",
              "</style>\n",
              "<table border=\"1\" class=\"dataframe\">\n",
              "  <thead>\n",
              "    <tr style=\"text-align: right;\">\n",
              "      <th></th>\n",
              "      <th>age</th>\n",
              "      <th>workclass</th>\n",
              "      <th>fnlwgt</th>\n",
              "      <th>educational-num</th>\n",
              "      <th>marital-status</th>\n",
              "      <th>occupation</th>\n",
              "      <th>relationship</th>\n",
              "      <th>race</th>\n",
              "      <th>hours-per-week</th>\n",
              "      <th>native-country</th>\n",
              "    </tr>\n",
              "  </thead>\n",
              "  <tbody>\n",
              "    <tr>\n",
              "      <th>0</th>\n",
              "      <td>-1.274326</td>\n",
              "      <td>Private</td>\n",
              "      <td>1.971346</td>\n",
              "      <td>-0.232156</td>\n",
              "      <td>Never-married</td>\n",
              "      <td>Adm-clerical</td>\n",
              "      <td>Not-in-family</td>\n",
              "      <td>White</td>\n",
              "      <td>-0.163839</td>\n",
              "      <td>United-States</td>\n",
              "    </tr>\n",
              "    <tr>\n",
              "      <th>1</th>\n",
              "      <td>0.188520</td>\n",
              "      <td>Private</td>\n",
              "      <td>-1.582668</td>\n",
              "      <td>-0.232156</td>\n",
              "      <td>Married-civ-spouse</td>\n",
              "      <td>Prof-specialty</td>\n",
              "      <td>Husband</td>\n",
              "      <td>White</td>\n",
              "      <td>-0.163839</td>\n",
              "      <td>United-States</td>\n",
              "    </tr>\n",
              "    <tr>\n",
              "      <th>2</th>\n",
              "      <td>0.419495</td>\n",
              "      <td>Federal-gov</td>\n",
              "      <td>-0.470112</td>\n",
              "      <td>-0.232156</td>\n",
              "      <td>Married-civ-spouse</td>\n",
              "      <td>Exec-managerial</td>\n",
              "      <td>Husband</td>\n",
              "      <td>White</td>\n",
              "      <td>0.494211</td>\n",
              "      <td>United-States</td>\n",
              "    </tr>\n",
              "    <tr>\n",
              "      <th>3</th>\n",
              "      <td>1.574374</td>\n",
              "      <td>?</td>\n",
              "      <td>-1.131500</td>\n",
              "      <td>-0.614396</td>\n",
              "      <td>Married-civ-spouse</td>\n",
              "      <td>?</td>\n",
              "      <td>Husband</td>\n",
              "      <td>White</td>\n",
              "      <td>-0.163839</td>\n",
              "      <td>United-States</td>\n",
              "    </tr>\n",
              "    <tr>\n",
              "      <th>4</th>\n",
              "      <td>-0.581399</td>\n",
              "      <td>Private</td>\n",
              "      <td>0.677980</td>\n",
              "      <td>-0.232156</td>\n",
              "      <td>Married-civ-spouse</td>\n",
              "      <td>Craft-repair</td>\n",
              "      <td>Husband</td>\n",
              "      <td>White</td>\n",
              "      <td>-0.081583</td>\n",
              "      <td>United-States</td>\n",
              "    </tr>\n",
              "    <tr>\n",
              "      <th>...</th>\n",
              "      <td>...</td>\n",
              "      <td>...</td>\n",
              "      <td>...</td>\n",
              "      <td>...</td>\n",
              "      <td>...</td>\n",
              "      <td>...</td>\n",
              "      <td>...</td>\n",
              "      <td>...</td>\n",
              "      <td>...</td>\n",
              "      <td>...</td>\n",
              "    </tr>\n",
              "    <tr>\n",
              "      <th>7008</th>\n",
              "      <td>-0.427415</td>\n",
              "      <td>Self-emp-not-inc</td>\n",
              "      <td>-1.412726</td>\n",
              "      <td>0.532322</td>\n",
              "      <td>Married-civ-spouse</td>\n",
              "      <td>Craft-repair</td>\n",
              "      <td>Husband</td>\n",
              "      <td>White</td>\n",
              "      <td>-0.163839</td>\n",
              "      <td>United-States</td>\n",
              "    </tr>\n",
              "    <tr>\n",
              "      <th>7009</th>\n",
              "      <td>-0.119448</td>\n",
              "      <td>Private</td>\n",
              "      <td>2.878413</td>\n",
              "      <td>0.914561</td>\n",
              "      <td>Never-married</td>\n",
              "      <td>Exec-managerial</td>\n",
              "      <td>Other-relative</td>\n",
              "      <td>Black</td>\n",
              "      <td>0.247443</td>\n",
              "      <td>United-States</td>\n",
              "    </tr>\n",
              "    <tr>\n",
              "      <th>7010</th>\n",
              "      <td>-1.582294</td>\n",
              "      <td>Private</td>\n",
              "      <td>0.324610</td>\n",
              "      <td>-0.614396</td>\n",
              "      <td>Never-married</td>\n",
              "      <td>Other-service</td>\n",
              "      <td>Own-child</td>\n",
              "      <td>White</td>\n",
              "      <td>-1.562196</td>\n",
              "      <td>United-States</td>\n",
              "    </tr>\n",
              "    <tr>\n",
              "      <th>7011</th>\n",
              "      <td>-0.812375</td>\n",
              "      <td>State-gov</td>\n",
              "      <td>-0.606314</td>\n",
              "      <td>0.914561</td>\n",
              "      <td>Married-spouse-absent</td>\n",
              "      <td>Adm-clerical</td>\n",
              "      <td>Not-in-family</td>\n",
              "      <td>White</td>\n",
              "      <td>-0.163839</td>\n",
              "      <td>United-States</td>\n",
              "    </tr>\n",
              "    <tr>\n",
              "      <th>7012</th>\n",
              "      <td>0.573479</td>\n",
              "      <td>Local-gov</td>\n",
              "      <td>0.141268</td>\n",
              "      <td>2.061279</td>\n",
              "      <td>Married-civ-spouse</td>\n",
              "      <td>Prof-specialty</td>\n",
              "      <td>Husband</td>\n",
              "      <td>White</td>\n",
              "      <td>0.247443</td>\n",
              "      <td>Canada</td>\n",
              "    </tr>\n",
              "  </tbody>\n",
              "</table>\n",
              "<p>23374 rows × 10 columns</p>\n",
              "</div>\n",
              "      <button class=\"colab-df-convert\" onclick=\"convertToInteractive('df-f01fe9b9-b646-4b1e-941a-f4a62d0e894d')\"\n",
              "              title=\"Convert this dataframe to an interactive table.\"\n",
              "              style=\"display:none;\">\n",
              "        \n",
              "  <svg xmlns=\"http://www.w3.org/2000/svg\" height=\"24px\"viewBox=\"0 0 24 24\"\n",
              "       width=\"24px\">\n",
              "    <path d=\"M0 0h24v24H0V0z\" fill=\"none\"/>\n",
              "    <path d=\"M18.56 5.44l.94 2.06.94-2.06 2.06-.94-2.06-.94-.94-2.06-.94 2.06-2.06.94zm-11 1L8.5 8.5l.94-2.06 2.06-.94-2.06-.94L8.5 2.5l-.94 2.06-2.06.94zm10 10l.94 2.06.94-2.06 2.06-.94-2.06-.94-.94-2.06-.94 2.06-2.06.94z\"/><path d=\"M17.41 7.96l-1.37-1.37c-.4-.4-.92-.59-1.43-.59-.52 0-1.04.2-1.43.59L10.3 9.45l-7.72 7.72c-.78.78-.78 2.05 0 2.83L4 21.41c.39.39.9.59 1.41.59.51 0 1.02-.2 1.41-.59l7.78-7.78 2.81-2.81c.8-.78.8-2.07 0-2.86zM5.41 20L4 18.59l7.72-7.72 1.47 1.35L5.41 20z\"/>\n",
              "  </svg>\n",
              "      </button>\n",
              "      \n",
              "  <style>\n",
              "    .colab-df-container {\n",
              "      display:flex;\n",
              "      flex-wrap:wrap;\n",
              "      gap: 12px;\n",
              "    }\n",
              "\n",
              "    .colab-df-convert {\n",
              "      background-color: #E8F0FE;\n",
              "      border: none;\n",
              "      border-radius: 50%;\n",
              "      cursor: pointer;\n",
              "      display: none;\n",
              "      fill: #1967D2;\n",
              "      height: 32px;\n",
              "      padding: 0 0 0 0;\n",
              "      width: 32px;\n",
              "    }\n",
              "\n",
              "    .colab-df-convert:hover {\n",
              "      background-color: #E2EBFA;\n",
              "      box-shadow: 0px 1px 2px rgba(60, 64, 67, 0.3), 0px 1px 3px 1px rgba(60, 64, 67, 0.15);\n",
              "      fill: #174EA6;\n",
              "    }\n",
              "\n",
              "    [theme=dark] .colab-df-convert {\n",
              "      background-color: #3B4455;\n",
              "      fill: #D2E3FC;\n",
              "    }\n",
              "\n",
              "    [theme=dark] .colab-df-convert:hover {\n",
              "      background-color: #434B5C;\n",
              "      box-shadow: 0px 1px 3px 1px rgba(0, 0, 0, 0.15);\n",
              "      filter: drop-shadow(0px 1px 2px rgba(0, 0, 0, 0.3));\n",
              "      fill: #FFFFFF;\n",
              "    }\n",
              "  </style>\n",
              "\n",
              "      <script>\n",
              "        const buttonEl =\n",
              "          document.querySelector('#df-f01fe9b9-b646-4b1e-941a-f4a62d0e894d button.colab-df-convert');\n",
              "        buttonEl.style.display =\n",
              "          google.colab.kernel.accessAllowed ? 'block' : 'none';\n",
              "\n",
              "        async function convertToInteractive(key) {\n",
              "          const element = document.querySelector('#df-f01fe9b9-b646-4b1e-941a-f4a62d0e894d');\n",
              "          const dataTable =\n",
              "            await google.colab.kernel.invokeFunction('convertToInteractive',\n",
              "                                                     [key], {});\n",
              "          if (!dataTable) return;\n",
              "\n",
              "          const docLinkHtml = 'Like what you see? Visit the ' +\n",
              "            '<a target=\"_blank\" href=https://colab.research.google.com/notebooks/data_table.ipynb>data table notebook</a>'\n",
              "            + ' to learn more about interactive tables.';\n",
              "          element.innerHTML = '';\n",
              "          dataTable['output_type'] = 'display_data';\n",
              "          await google.colab.output.renderOutput(dataTable, element);\n",
              "          const docLink = document.createElement('div');\n",
              "          docLink.innerHTML = docLinkHtml;\n",
              "          element.appendChild(docLink);\n",
              "        }\n",
              "      </script>\n",
              "    </div>\n",
              "  </div>\n",
              "  "
            ]
          },
          "metadata": {},
          "execution_count": 122
        }
      ]
    },
    {
      "cell_type": "code",
      "source": [
        "cat_columns = train_test.select_dtypes(include=[object]).columns\n"
      ],
      "metadata": {
        "id": "QDqvImmy0bQH"
      },
      "execution_count": 123,
      "outputs": []
    },
    {
      "cell_type": "code",
      "source": [
        "cat_columns"
      ],
      "metadata": {
        "colab": {
          "base_uri": "https://localhost:8080/"
        },
        "id": "aehblPUC6MEw",
        "outputId": "f1beb55c-c74b-4564-92b8-5fd0853a18b8"
      },
      "execution_count": 124,
      "outputs": [
        {
          "output_type": "execute_result",
          "data": {
            "text/plain": [
              "Index(['workclass', 'marital-status', 'occupation', 'relationship', 'race',\n",
              "       'native-country'],\n",
              "      dtype='object')"
            ]
          },
          "metadata": {},
          "execution_count": 124
        }
      ]
    },
    {
      "cell_type": "code",
      "source": [
        "for x in cat_columns:\n",
        "   \n",
        "    print(x ,':', len(train[x].unique()))"
      ],
      "metadata": {
        "colab": {
          "base_uri": "https://localhost:8080/"
        },
        "id": "xWBdg3aB0u0U",
        "outputId": "e386f8e8-a722-407c-d6b9-c9addb22515c"
      },
      "execution_count": 125,
      "outputs": [
        {
          "output_type": "stream",
          "name": "stdout",
          "text": [
            "workclass : 9\n",
            "marital-status : 7\n",
            "occupation : 15\n",
            "relationship : 6\n",
            "race : 5\n",
            "native-country : 42\n"
          ]
        }
      ]
    },
    {
      "cell_type": "code",
      "source": [
        "for i in cat_columns : \n",
        "  train_test[i] = train_test[i].replace('?',np.nan)"
      ],
      "metadata": {
        "id": "Gg_f3U5Q1bFe"
      },
      "execution_count": 130,
      "outputs": []
    },
    {
      "cell_type": "code",
      "source": [
        "train_test = train_test.fillna(train_test.mode().iloc[0])\n"
      ],
      "metadata": {
        "id": "jMMTxMY21kG9"
      },
      "execution_count": 131,
      "outputs": []
    },
    {
      "cell_type": "code",
      "source": [
        "df = pd.get_dummies(train_test, columns = cat_columns)\n"
      ],
      "metadata": {
        "id": "_EqdEuVy1pVr"
      },
      "execution_count": 132,
      "outputs": []
    },
    {
      "cell_type": "code",
      "source": [
        "df"
      ],
      "metadata": {
        "colab": {
          "base_uri": "https://localhost:8080/",
          "height": 522
        },
        "id": "96SFAnVH9Qiz",
        "outputId": "3eb90500-ec5d-4cb6-8c3c-cbd8f9cf40a6"
      },
      "execution_count": 133,
      "outputs": [
        {
          "output_type": "execute_result",
          "data": {
            "text/plain": [
              "           age    fnlwgt  educational-num  hours-per-week  \\\n",
              "0    -1.274326  1.971346        -0.232156       -0.163839   \n",
              "1     0.188520 -1.582668        -0.232156       -0.163839   \n",
              "2     0.419495 -0.470112        -0.232156        0.494211   \n",
              "3     1.574374 -1.131500        -0.614396       -0.163839   \n",
              "4    -0.581399  0.677980        -0.232156       -0.081583   \n",
              "...        ...       ...              ...             ...   \n",
              "7008 -0.427415 -1.412726         0.532322       -0.163839   \n",
              "7009 -0.119448  2.878413         0.914561        0.247443   \n",
              "7010 -1.582294  0.324610        -0.614396       -1.562196   \n",
              "7011 -0.812375 -0.606314         0.914561       -0.163839   \n",
              "7012  0.573479  0.141268         2.061279        0.247443   \n",
              "\n",
              "      workclass_Federal-gov  workclass_Local-gov  workclass_Never-worked  \\\n",
              "0                         0                    0                       0   \n",
              "1                         0                    0                       0   \n",
              "2                         1                    0                       0   \n",
              "3                         0                    0                       0   \n",
              "4                         0                    0                       0   \n",
              "...                     ...                  ...                     ...   \n",
              "7008                      0                    0                       0   \n",
              "7009                      0                    0                       0   \n",
              "7010                      0                    0                       0   \n",
              "7011                      0                    0                       0   \n",
              "7012                      0                    1                       0   \n",
              "\n",
              "      workclass_Private  workclass_Self-emp-inc  workclass_Self-emp-not-inc  \\\n",
              "0                     1                       0                           0   \n",
              "1                     1                       0                           0   \n",
              "2                     0                       0                           0   \n",
              "3                     1                       0                           0   \n",
              "4                     1                       0                           0   \n",
              "...                 ...                     ...                         ...   \n",
              "7008                  0                       0                           1   \n",
              "7009                  1                       0                           0   \n",
              "7010                  1                       0                           0   \n",
              "7011                  0                       0                           0   \n",
              "7012                  0                       0                           0   \n",
              "\n",
              "      ...  native-country_Portugal  native-country_Puerto-Rico  \\\n",
              "0     ...                        0                           0   \n",
              "1     ...                        0                           0   \n",
              "2     ...                        0                           0   \n",
              "3     ...                        0                           0   \n",
              "4     ...                        0                           0   \n",
              "...   ...                      ...                         ...   \n",
              "7008  ...                        0                           0   \n",
              "7009  ...                        0                           0   \n",
              "7010  ...                        0                           0   \n",
              "7011  ...                        0                           0   \n",
              "7012  ...                        0                           0   \n",
              "\n",
              "      native-country_Scotland  native-country_South  native-country_Taiwan  \\\n",
              "0                           0                     0                      0   \n",
              "1                           0                     0                      0   \n",
              "2                           0                     0                      0   \n",
              "3                           0                     0                      0   \n",
              "4                           0                     0                      0   \n",
              "...                       ...                   ...                    ...   \n",
              "7008                        0                     0                      0   \n",
              "7009                        0                     0                      0   \n",
              "7010                        0                     0                      0   \n",
              "7011                        0                     0                      0   \n",
              "7012                        0                     0                      0   \n",
              "\n",
              "      native-country_Thailand  native-country_Trinadad&Tobago  \\\n",
              "0                           0                               0   \n",
              "1                           0                               0   \n",
              "2                           0                               0   \n",
              "3                           0                               0   \n",
              "4                           0                               0   \n",
              "...                       ...                             ...   \n",
              "7008                        0                               0   \n",
              "7009                        0                               0   \n",
              "7010                        0                               0   \n",
              "7011                        0                               0   \n",
              "7012                        0                               0   \n",
              "\n",
              "      native-country_United-States  native-country_Vietnam  \\\n",
              "0                                1                       0   \n",
              "1                                1                       0   \n",
              "2                                1                       0   \n",
              "3                                1                       0   \n",
              "4                                1                       0   \n",
              "...                            ...                     ...   \n",
              "7008                             1                       0   \n",
              "7009                             1                       0   \n",
              "7010                             1                       0   \n",
              "7011                             1                       0   \n",
              "7012                             0                       0   \n",
              "\n",
              "      native-country_Yugoslavia  \n",
              "0                             0  \n",
              "1                             0  \n",
              "2                             0  \n",
              "3                             0  \n",
              "4                             0  \n",
              "...                         ...  \n",
              "7008                          0  \n",
              "7009                          0  \n",
              "7010                          0  \n",
              "7011                          0  \n",
              "7012                          0  \n",
              "\n",
              "[23374 rows x 85 columns]"
            ],
            "text/html": [
              "\n",
              "  <div id=\"df-c81c2fa9-1c6b-403b-86e9-f81d1cd27e12\">\n",
              "    <div class=\"colab-df-container\">\n",
              "      <div>\n",
              "<style scoped>\n",
              "    .dataframe tbody tr th:only-of-type {\n",
              "        vertical-align: middle;\n",
              "    }\n",
              "\n",
              "    .dataframe tbody tr th {\n",
              "        vertical-align: top;\n",
              "    }\n",
              "\n",
              "    .dataframe thead th {\n",
              "        text-align: right;\n",
              "    }\n",
              "</style>\n",
              "<table border=\"1\" class=\"dataframe\">\n",
              "  <thead>\n",
              "    <tr style=\"text-align: right;\">\n",
              "      <th></th>\n",
              "      <th>age</th>\n",
              "      <th>fnlwgt</th>\n",
              "      <th>educational-num</th>\n",
              "      <th>hours-per-week</th>\n",
              "      <th>workclass_Federal-gov</th>\n",
              "      <th>workclass_Local-gov</th>\n",
              "      <th>workclass_Never-worked</th>\n",
              "      <th>workclass_Private</th>\n",
              "      <th>workclass_Self-emp-inc</th>\n",
              "      <th>workclass_Self-emp-not-inc</th>\n",
              "      <th>...</th>\n",
              "      <th>native-country_Portugal</th>\n",
              "      <th>native-country_Puerto-Rico</th>\n",
              "      <th>native-country_Scotland</th>\n",
              "      <th>native-country_South</th>\n",
              "      <th>native-country_Taiwan</th>\n",
              "      <th>native-country_Thailand</th>\n",
              "      <th>native-country_Trinadad&amp;Tobago</th>\n",
              "      <th>native-country_United-States</th>\n",
              "      <th>native-country_Vietnam</th>\n",
              "      <th>native-country_Yugoslavia</th>\n",
              "    </tr>\n",
              "  </thead>\n",
              "  <tbody>\n",
              "    <tr>\n",
              "      <th>0</th>\n",
              "      <td>-1.274326</td>\n",
              "      <td>1.971346</td>\n",
              "      <td>-0.232156</td>\n",
              "      <td>-0.163839</td>\n",
              "      <td>0</td>\n",
              "      <td>0</td>\n",
              "      <td>0</td>\n",
              "      <td>1</td>\n",
              "      <td>0</td>\n",
              "      <td>0</td>\n",
              "      <td>...</td>\n",
              "      <td>0</td>\n",
              "      <td>0</td>\n",
              "      <td>0</td>\n",
              "      <td>0</td>\n",
              "      <td>0</td>\n",
              "      <td>0</td>\n",
              "      <td>0</td>\n",
              "      <td>1</td>\n",
              "      <td>0</td>\n",
              "      <td>0</td>\n",
              "    </tr>\n",
              "    <tr>\n",
              "      <th>1</th>\n",
              "      <td>0.188520</td>\n",
              "      <td>-1.582668</td>\n",
              "      <td>-0.232156</td>\n",
              "      <td>-0.163839</td>\n",
              "      <td>0</td>\n",
              "      <td>0</td>\n",
              "      <td>0</td>\n",
              "      <td>1</td>\n",
              "      <td>0</td>\n",
              "      <td>0</td>\n",
              "      <td>...</td>\n",
              "      <td>0</td>\n",
              "      <td>0</td>\n",
              "      <td>0</td>\n",
              "      <td>0</td>\n",
              "      <td>0</td>\n",
              "      <td>0</td>\n",
              "      <td>0</td>\n",
              "      <td>1</td>\n",
              "      <td>0</td>\n",
              "      <td>0</td>\n",
              "    </tr>\n",
              "    <tr>\n",
              "      <th>2</th>\n",
              "      <td>0.419495</td>\n",
              "      <td>-0.470112</td>\n",
              "      <td>-0.232156</td>\n",
              "      <td>0.494211</td>\n",
              "      <td>1</td>\n",
              "      <td>0</td>\n",
              "      <td>0</td>\n",
              "      <td>0</td>\n",
              "      <td>0</td>\n",
              "      <td>0</td>\n",
              "      <td>...</td>\n",
              "      <td>0</td>\n",
              "      <td>0</td>\n",
              "      <td>0</td>\n",
              "      <td>0</td>\n",
              "      <td>0</td>\n",
              "      <td>0</td>\n",
              "      <td>0</td>\n",
              "      <td>1</td>\n",
              "      <td>0</td>\n",
              "      <td>0</td>\n",
              "    </tr>\n",
              "    <tr>\n",
              "      <th>3</th>\n",
              "      <td>1.574374</td>\n",
              "      <td>-1.131500</td>\n",
              "      <td>-0.614396</td>\n",
              "      <td>-0.163839</td>\n",
              "      <td>0</td>\n",
              "      <td>0</td>\n",
              "      <td>0</td>\n",
              "      <td>1</td>\n",
              "      <td>0</td>\n",
              "      <td>0</td>\n",
              "      <td>...</td>\n",
              "      <td>0</td>\n",
              "      <td>0</td>\n",
              "      <td>0</td>\n",
              "      <td>0</td>\n",
              "      <td>0</td>\n",
              "      <td>0</td>\n",
              "      <td>0</td>\n",
              "      <td>1</td>\n",
              "      <td>0</td>\n",
              "      <td>0</td>\n",
              "    </tr>\n",
              "    <tr>\n",
              "      <th>4</th>\n",
              "      <td>-0.581399</td>\n",
              "      <td>0.677980</td>\n",
              "      <td>-0.232156</td>\n",
              "      <td>-0.081583</td>\n",
              "      <td>0</td>\n",
              "      <td>0</td>\n",
              "      <td>0</td>\n",
              "      <td>1</td>\n",
              "      <td>0</td>\n",
              "      <td>0</td>\n",
              "      <td>...</td>\n",
              "      <td>0</td>\n",
              "      <td>0</td>\n",
              "      <td>0</td>\n",
              "      <td>0</td>\n",
              "      <td>0</td>\n",
              "      <td>0</td>\n",
              "      <td>0</td>\n",
              "      <td>1</td>\n",
              "      <td>0</td>\n",
              "      <td>0</td>\n",
              "    </tr>\n",
              "    <tr>\n",
              "      <th>...</th>\n",
              "      <td>...</td>\n",
              "      <td>...</td>\n",
              "      <td>...</td>\n",
              "      <td>...</td>\n",
              "      <td>...</td>\n",
              "      <td>...</td>\n",
              "      <td>...</td>\n",
              "      <td>...</td>\n",
              "      <td>...</td>\n",
              "      <td>...</td>\n",
              "      <td>...</td>\n",
              "      <td>...</td>\n",
              "      <td>...</td>\n",
              "      <td>...</td>\n",
              "      <td>...</td>\n",
              "      <td>...</td>\n",
              "      <td>...</td>\n",
              "      <td>...</td>\n",
              "      <td>...</td>\n",
              "      <td>...</td>\n",
              "      <td>...</td>\n",
              "    </tr>\n",
              "    <tr>\n",
              "      <th>7008</th>\n",
              "      <td>-0.427415</td>\n",
              "      <td>-1.412726</td>\n",
              "      <td>0.532322</td>\n",
              "      <td>-0.163839</td>\n",
              "      <td>0</td>\n",
              "      <td>0</td>\n",
              "      <td>0</td>\n",
              "      <td>0</td>\n",
              "      <td>0</td>\n",
              "      <td>1</td>\n",
              "      <td>...</td>\n",
              "      <td>0</td>\n",
              "      <td>0</td>\n",
              "      <td>0</td>\n",
              "      <td>0</td>\n",
              "      <td>0</td>\n",
              "      <td>0</td>\n",
              "      <td>0</td>\n",
              "      <td>1</td>\n",
              "      <td>0</td>\n",
              "      <td>0</td>\n",
              "    </tr>\n",
              "    <tr>\n",
              "      <th>7009</th>\n",
              "      <td>-0.119448</td>\n",
              "      <td>2.878413</td>\n",
              "      <td>0.914561</td>\n",
              "      <td>0.247443</td>\n",
              "      <td>0</td>\n",
              "      <td>0</td>\n",
              "      <td>0</td>\n",
              "      <td>1</td>\n",
              "      <td>0</td>\n",
              "      <td>0</td>\n",
              "      <td>...</td>\n",
              "      <td>0</td>\n",
              "      <td>0</td>\n",
              "      <td>0</td>\n",
              "      <td>0</td>\n",
              "      <td>0</td>\n",
              "      <td>0</td>\n",
              "      <td>0</td>\n",
              "      <td>1</td>\n",
              "      <td>0</td>\n",
              "      <td>0</td>\n",
              "    </tr>\n",
              "    <tr>\n",
              "      <th>7010</th>\n",
              "      <td>-1.582294</td>\n",
              "      <td>0.324610</td>\n",
              "      <td>-0.614396</td>\n",
              "      <td>-1.562196</td>\n",
              "      <td>0</td>\n",
              "      <td>0</td>\n",
              "      <td>0</td>\n",
              "      <td>1</td>\n",
              "      <td>0</td>\n",
              "      <td>0</td>\n",
              "      <td>...</td>\n",
              "      <td>0</td>\n",
              "      <td>0</td>\n",
              "      <td>0</td>\n",
              "      <td>0</td>\n",
              "      <td>0</td>\n",
              "      <td>0</td>\n",
              "      <td>0</td>\n",
              "      <td>1</td>\n",
              "      <td>0</td>\n",
              "      <td>0</td>\n",
              "    </tr>\n",
              "    <tr>\n",
              "      <th>7011</th>\n",
              "      <td>-0.812375</td>\n",
              "      <td>-0.606314</td>\n",
              "      <td>0.914561</td>\n",
              "      <td>-0.163839</td>\n",
              "      <td>0</td>\n",
              "      <td>0</td>\n",
              "      <td>0</td>\n",
              "      <td>0</td>\n",
              "      <td>0</td>\n",
              "      <td>0</td>\n",
              "      <td>...</td>\n",
              "      <td>0</td>\n",
              "      <td>0</td>\n",
              "      <td>0</td>\n",
              "      <td>0</td>\n",
              "      <td>0</td>\n",
              "      <td>0</td>\n",
              "      <td>0</td>\n",
              "      <td>1</td>\n",
              "      <td>0</td>\n",
              "      <td>0</td>\n",
              "    </tr>\n",
              "    <tr>\n",
              "      <th>7012</th>\n",
              "      <td>0.573479</td>\n",
              "      <td>0.141268</td>\n",
              "      <td>2.061279</td>\n",
              "      <td>0.247443</td>\n",
              "      <td>0</td>\n",
              "      <td>1</td>\n",
              "      <td>0</td>\n",
              "      <td>0</td>\n",
              "      <td>0</td>\n",
              "      <td>0</td>\n",
              "      <td>...</td>\n",
              "      <td>0</td>\n",
              "      <td>0</td>\n",
              "      <td>0</td>\n",
              "      <td>0</td>\n",
              "      <td>0</td>\n",
              "      <td>0</td>\n",
              "      <td>0</td>\n",
              "      <td>0</td>\n",
              "      <td>0</td>\n",
              "      <td>0</td>\n",
              "    </tr>\n",
              "  </tbody>\n",
              "</table>\n",
              "<p>23374 rows × 85 columns</p>\n",
              "</div>\n",
              "      <button class=\"colab-df-convert\" onclick=\"convertToInteractive('df-c81c2fa9-1c6b-403b-86e9-f81d1cd27e12')\"\n",
              "              title=\"Convert this dataframe to an interactive table.\"\n",
              "              style=\"display:none;\">\n",
              "        \n",
              "  <svg xmlns=\"http://www.w3.org/2000/svg\" height=\"24px\"viewBox=\"0 0 24 24\"\n",
              "       width=\"24px\">\n",
              "    <path d=\"M0 0h24v24H0V0z\" fill=\"none\"/>\n",
              "    <path d=\"M18.56 5.44l.94 2.06.94-2.06 2.06-.94-2.06-.94-.94-2.06-.94 2.06-2.06.94zm-11 1L8.5 8.5l.94-2.06 2.06-.94-2.06-.94L8.5 2.5l-.94 2.06-2.06.94zm10 10l.94 2.06.94-2.06 2.06-.94-2.06-.94-.94-2.06-.94 2.06-2.06.94z\"/><path d=\"M17.41 7.96l-1.37-1.37c-.4-.4-.92-.59-1.43-.59-.52 0-1.04.2-1.43.59L10.3 9.45l-7.72 7.72c-.78.78-.78 2.05 0 2.83L4 21.41c.39.39.9.59 1.41.59.51 0 1.02-.2 1.41-.59l7.78-7.78 2.81-2.81c.8-.78.8-2.07 0-2.86zM5.41 20L4 18.59l7.72-7.72 1.47 1.35L5.41 20z\"/>\n",
              "  </svg>\n",
              "      </button>\n",
              "      \n",
              "  <style>\n",
              "    .colab-df-container {\n",
              "      display:flex;\n",
              "      flex-wrap:wrap;\n",
              "      gap: 12px;\n",
              "    }\n",
              "\n",
              "    .colab-df-convert {\n",
              "      background-color: #E8F0FE;\n",
              "      border: none;\n",
              "      border-radius: 50%;\n",
              "      cursor: pointer;\n",
              "      display: none;\n",
              "      fill: #1967D2;\n",
              "      height: 32px;\n",
              "      padding: 0 0 0 0;\n",
              "      width: 32px;\n",
              "    }\n",
              "\n",
              "    .colab-df-convert:hover {\n",
              "      background-color: #E2EBFA;\n",
              "      box-shadow: 0px 1px 2px rgba(60, 64, 67, 0.3), 0px 1px 3px 1px rgba(60, 64, 67, 0.15);\n",
              "      fill: #174EA6;\n",
              "    }\n",
              "\n",
              "    [theme=dark] .colab-df-convert {\n",
              "      background-color: #3B4455;\n",
              "      fill: #D2E3FC;\n",
              "    }\n",
              "\n",
              "    [theme=dark] .colab-df-convert:hover {\n",
              "      background-color: #434B5C;\n",
              "      box-shadow: 0px 1px 3px 1px rgba(0, 0, 0, 0.15);\n",
              "      filter: drop-shadow(0px 1px 2px rgba(0, 0, 0, 0.3));\n",
              "      fill: #FFFFFF;\n",
              "    }\n",
              "  </style>\n",
              "\n",
              "      <script>\n",
              "        const buttonEl =\n",
              "          document.querySelector('#df-c81c2fa9-1c6b-403b-86e9-f81d1cd27e12 button.colab-df-convert');\n",
              "        buttonEl.style.display =\n",
              "          google.colab.kernel.accessAllowed ? 'block' : 'none';\n",
              "\n",
              "        async function convertToInteractive(key) {\n",
              "          const element = document.querySelector('#df-c81c2fa9-1c6b-403b-86e9-f81d1cd27e12');\n",
              "          const dataTable =\n",
              "            await google.colab.kernel.invokeFunction('convertToInteractive',\n",
              "                                                     [key], {});\n",
              "          if (!dataTable) return;\n",
              "\n",
              "          const docLinkHtml = 'Like what you see? Visit the ' +\n",
              "            '<a target=\"_blank\" href=https://colab.research.google.com/notebooks/data_table.ipynb>data table notebook</a>'\n",
              "            + ' to learn more about interactive tables.';\n",
              "          element.innerHTML = '';\n",
              "          dataTable['output_type'] = 'display_data';\n",
              "          await google.colab.output.renderOutput(dataTable, element);\n",
              "          const docLink = document.createElement('div');\n",
              "          docLink.innerHTML = docLinkHtml;\n",
              "          element.appendChild(docLink);\n",
              "        }\n",
              "      </script>\n",
              "    </div>\n",
              "  </div>\n",
              "  "
            ]
          },
          "metadata": {},
          "execution_count": 133
        }
      ]
    },
    {
      "cell_type": "code",
      "source": [
        "df = pd.concat([df,gen],axis=1)"
      ],
      "metadata": {
        "id": "nh3-KPy193hq"
      },
      "execution_count": 134,
      "outputs": []
    },
    {
      "cell_type": "code",
      "source": [
        "from sklearn.linear_model import SGDClassifier\n"
      ],
      "metadata": {
        "id": "7oSPDTNK2KJy"
      },
      "execution_count": 135,
      "outputs": []
    },
    {
      "cell_type": "code",
      "source": [
        "y = train['income']"
      ],
      "metadata": {
        "id": "p8C2sT_22br6"
      },
      "execution_count": 137,
      "outputs": []
    },
    {
      "cell_type": "code",
      "source": [
        "X_train = df[:16361]\n",
        "X_test = df[16361:]"
      ],
      "metadata": {
        "id": "lIuzv8-Z2uJR"
      },
      "execution_count": 139,
      "outputs": []
    },
    {
      "cell_type": "code",
      "source": [
        "from sklearn.model_selection import GridSearchCV, RepeatedStratifiedKFold,cross_validate\n",
        "from sklearn.linear_model import SGDClassifier\n"
      ],
      "metadata": {
        "id": "z5OasxVp3kgE"
      },
      "execution_count": 141,
      "outputs": []
    },
    {
      "cell_type": "code",
      "source": [
        "iter = [500, 1000, 2000]\n",
        "eta=  [1, 0.01, 0.00001]\n",
        "alph = [0, 0.01, 0.00001]"
      ],
      "metadata": {
        "id": "iIS_4K-L-N0X"
      },
      "execution_count": 155,
      "outputs": []
    },
    {
      "cell_type": "code",
      "source": [
        "cv = RepeatedStratifiedKFold(n_splits=5, n_repeats=2, random_state=42)\n"
      ],
      "metadata": {
        "id": "V8sTM30l-QZE"
      },
      "execution_count": 221,
      "outputs": []
    },
    {
      "cell_type": "code",
      "source": [
        "train_score = []\n",
        "val_score = []\n",
        "val_acc=[]"
      ],
      "metadata": {
        "id": "H4tW62Dr-RmJ"
      },
      "execution_count": 275,
      "outputs": []
    },
    {
      "cell_type": "code",
      "source": [
        "for i in range(3):\n",
        "  for j in range(3):\n",
        "    for k in range(3):\n",
        "      sgd = SGDClassifier(loss='log', learning_rate='constant',max_iter=iter[i],eta0=eta[j],alpha=alph[k])\n",
        "      scores = cross_validate(sgd,X_train,y,cv = cv , n_jobs=-1,return_train_score=True,scoring=['neg_log_loss','accuracy'])\n",
        "      train_score.append(scores['train_neg_log_loss'])\n",
        "      val_score.append(scores['test_neg_log_loss'])\n",
        "      val_acc.append(scores['test_accuracy'])\n",
        "      print('max iter : {} , eta : {} alpha : {}'.format(iter[i],eta[j],alph[k]))"
      ],
      "metadata": {
        "colab": {
          "base_uri": "https://localhost:8080/"
        },
        "id": "Yr0EV6q5-S09",
        "outputId": "c5ed51ae-6b9c-403e-ca5a-6baf728a052a"
      },
      "execution_count": 276,
      "outputs": [
        {
          "output_type": "stream",
          "name": "stdout",
          "text": [
            "max iter : 500 , eta : 1 alpha : 0\n",
            "max iter : 500 , eta : 1 alpha : 0.01\n",
            "max iter : 500 , eta : 1 alpha : 1e-05\n",
            "max iter : 500 , eta : 0.01 alpha : 0\n",
            "max iter : 500 , eta : 0.01 alpha : 0.01\n",
            "max iter : 500 , eta : 0.01 alpha : 1e-05\n",
            "max iter : 500 , eta : 1e-05 alpha : 0\n",
            "max iter : 500 , eta : 1e-05 alpha : 0.01\n",
            "max iter : 500 , eta : 1e-05 alpha : 1e-05\n",
            "max iter : 1000 , eta : 1 alpha : 0\n",
            "max iter : 1000 , eta : 1 alpha : 0.01\n",
            "max iter : 1000 , eta : 1 alpha : 1e-05\n",
            "max iter : 1000 , eta : 0.01 alpha : 0\n",
            "max iter : 1000 , eta : 0.01 alpha : 0.01\n",
            "max iter : 1000 , eta : 0.01 alpha : 1e-05\n",
            "max iter : 1000 , eta : 1e-05 alpha : 0\n",
            "max iter : 1000 , eta : 1e-05 alpha : 0.01\n",
            "max iter : 1000 , eta : 1e-05 alpha : 1e-05\n",
            "max iter : 2000 , eta : 1 alpha : 0\n",
            "max iter : 2000 , eta : 1 alpha : 0.01\n",
            "max iter : 2000 , eta : 1 alpha : 1e-05\n",
            "max iter : 2000 , eta : 0.01 alpha : 0\n",
            "max iter : 2000 , eta : 0.01 alpha : 0.01\n",
            "max iter : 2000 , eta : 0.01 alpha : 1e-05\n",
            "max iter : 2000 , eta : 1e-05 alpha : 0\n",
            "max iter : 2000 , eta : 1e-05 alpha : 0.01\n",
            "max iter : 2000 , eta : 1e-05 alpha : 1e-05\n"
          ]
        }
      ]
    },
    {
      "cell_type": "code",
      "source": [
        "np.array(train_score).shape"
      ],
      "metadata": {
        "colab": {
          "base_uri": "https://localhost:8080/"
        },
        "id": "XhWKzwN9o2zf",
        "outputId": "1937f783-2594-4baf-8c7d-15a199f79ec6"
      },
      "execution_count": 277,
      "outputs": [
        {
          "output_type": "execute_result",
          "data": {
            "text/plain": [
              "(27, 10)"
            ]
          },
          "metadata": {},
          "execution_count": 277
        }
      ]
    },
    {
      "cell_type": "code",
      "source": [
        "mean_train_score= np.mean(train_score,axis=1)\n",
        "mean_val_score = np.mean(val_score,axis=1)"
      ],
      "metadata": {
        "id": "aakkXNlJ-WsD"
      },
      "execution_count": 278,
      "outputs": []
    },
    {
      "cell_type": "code",
      "source": [
        "mean_train_score"
      ],
      "metadata": {
        "colab": {
          "base_uri": "https://localhost:8080/"
        },
        "id": "Ac--UqO3_PFG",
        "outputId": "1945bfe4-d9e0-46e7-9e8d-6497b8da3d3f"
      },
      "execution_count": 279,
      "outputs": [
        {
          "output_type": "execute_result",
          "data": {
            "text/plain": [
              "array([-1.5625718 , -1.21318122, -1.63606824, -0.42319645, -0.43367266,\n",
              "       -0.42375676, -0.47307664, -0.4759835 , -0.47307871, -1.83622582,\n",
              "       -1.00430833, -1.3293349 , -0.42411054, -0.43550885, -0.42361157,\n",
              "       -0.47307609, -0.47606488, -0.47307886, -1.37664133, -1.33239717,\n",
              "       -1.42817969, -0.42314692, -0.43404891, -0.42338727, -0.4730761 ,\n",
              "       -0.47614657, -0.47307889])"
            ]
          },
          "metadata": {},
          "execution_count": 279
        }
      ]
    },
    {
      "cell_type": "code",
      "source": [
        "mean_val_score"
      ],
      "metadata": {
        "colab": {
          "base_uri": "https://localhost:8080/"
        },
        "id": "sBTA1-QnAST0",
        "outputId": "dd772957-6f1c-4ea4-ef4e-0ca4c72d66df"
      },
      "execution_count": 280,
      "outputs": [
        {
          "output_type": "execute_result",
          "data": {
            "text/plain": [
              "array([-1.58324201, -1.22007622, -1.63171581, -0.42643511, -0.43547806,\n",
              "       -0.42723654, -0.47350502, -0.47639591, -0.47350678, -1.86791555,\n",
              "       -1.0095367 , -1.35661219, -0.42792088, -0.43661652, -0.4273415 ,\n",
              "       -0.47350437, -0.4764807 , -0.47350666, -1.41016751, -1.31271089,\n",
              "       -1.45341555, -0.42701382, -0.43521659, -0.42687196, -0.47350409,\n",
              "       -0.47656397, -0.47350754])"
            ]
          },
          "metadata": {},
          "execution_count": 280
        }
      ]
    },
    {
      "cell_type": "code",
      "source": [
        "np.argmax(mean_train_score)"
      ],
      "metadata": {
        "colab": {
          "base_uri": "https://localhost:8080/"
        },
        "id": "8zh5l3TRAo3j",
        "outputId": "8ea50589-c1ae-41bd-ad98-11fb199efa21"
      },
      "execution_count": 281,
      "outputs": [
        {
          "output_type": "execute_result",
          "data": {
            "text/plain": [
              "21"
            ]
          },
          "metadata": {},
          "execution_count": 281
        }
      ]
    },
    {
      "cell_type": "code",
      "source": [
        "np.argmax(mean_val_score)"
      ],
      "metadata": {
        "colab": {
          "base_uri": "https://localhost:8080/"
        },
        "id": "3FOuEp52BBVj",
        "outputId": "b4c27cfe-753b-4c9f-c1bc-b574c48fc30e"
      },
      "execution_count": 282,
      "outputs": [
        {
          "output_type": "execute_result",
          "data": {
            "text/plain": [
              "3"
            ]
          },
          "metadata": {},
          "execution_count": 282
        }
      ]
    },
    {
      "cell_type": "code",
      "source": [
        "val_mean=np.mean(val_acc,axis = 1)"
      ],
      "metadata": {
        "id": "VTSoPgmYu_9T"
      },
      "execution_count": 290,
      "outputs": []
    },
    {
      "cell_type": "code",
      "source": [
        "val_mean"
      ],
      "metadata": {
        "colab": {
          "base_uri": "https://localhost:8080/"
        },
        "id": "JXQShRxmvQRv",
        "outputId": "964c2437-2d2e-4a19-a6ca-6422d08f1886"
      },
      "execution_count": 293,
      "outputs": [
        {
          "output_type": "execute_result",
          "data": {
            "text/plain": [
              "array([0.71098938, 0.68660195, 0.70954985, 0.80239601, 0.80043988,\n",
              "       0.80147924, 0.79316665, 0.79286105, 0.79313608, 0.69271619,\n",
              "       0.74103042, 0.76281979, 0.80135681, 0.80114278, 0.80202912,\n",
              "       0.79313608, 0.79283049, 0.79316664, 0.73228957, 0.67165954,\n",
              "       0.74310832, 0.80435167, 0.80144858, 0.80212073, 0.79313608,\n",
              "       0.79283049, 0.79307496])"
            ]
          },
          "metadata": {},
          "execution_count": 293
        }
      ]
    },
    {
      "cell_type": "code",
      "source": [
        "mean_acc_val = np.mean(val_mean)"
      ],
      "metadata": {
        "id": "liQ2J7nEpPEj"
      },
      "execution_count": 291,
      "outputs": []
    },
    {
      "cell_type": "code",
      "source": [
        "mean_acc_val"
      ],
      "metadata": {
        "colab": {
          "base_uri": "https://localhost:8080/"
        },
        "id": "bTiiRGYHpcXB",
        "outputId": "eacba13e-4476-4fba-ac54-cd5b1c365fa6"
      },
      "execution_count": 292,
      "outputs": [
        {
          "output_type": "execute_result",
          "data": {
            "text/plain": [
              "0.7705506802990137"
            ]
          },
          "metadata": {},
          "execution_count": 292
        }
      ]
    },
    {
      "cell_type": "code",
      "source": [
        "for i in range(np.array(train_score).shape[0]):\n",
        "  fig = plt.figure(figsize =(10, 7))\n",
        "  plt.boxplot(x=[train_score[i],val_score[i]],labels=(\"train log loss\",\"val log loss\",))"
      ],
      "metadata": {
        "colab": {
          "base_uri": "https://localhost:8080/",
          "height": 1000
        },
        "id": "NVhtY6XNCHM3",
        "outputId": "16b942fd-283b-49eb-b297-797442b7482f"
      },
      "execution_count": 286,
      "outputs": [
        {
          "output_type": "stream",
          "name": "stderr",
          "text": [
            "<ipython-input-286-a88f5d3bb086>:2: RuntimeWarning: More than 20 figures have been opened. Figures created through the pyplot interface (`matplotlib.pyplot.figure`) are retained until explicitly closed and may consume too much memory. (To control this warning, see the rcParam `figure.max_open_warning`).\n",
            "  fig = plt.figure(figsize =(10, 7))\n",
            "<ipython-input-286-a88f5d3bb086>:2: RuntimeWarning: More than 20 figures have been opened. Figures created through the pyplot interface (`matplotlib.pyplot.figure`) are retained until explicitly closed and may consume too much memory. (To control this warning, see the rcParam `figure.max_open_warning`).\n",
            "  fig = plt.figure(figsize =(10, 7))\n",
            "<ipython-input-286-a88f5d3bb086>:2: RuntimeWarning: More than 20 figures have been opened. Figures created through the pyplot interface (`matplotlib.pyplot.figure`) are retained until explicitly closed and may consume too much memory. (To control this warning, see the rcParam `figure.max_open_warning`).\n",
            "  fig = plt.figure(figsize =(10, 7))\n",
            "<ipython-input-286-a88f5d3bb086>:2: RuntimeWarning: More than 20 figures have been opened. Figures created through the pyplot interface (`matplotlib.pyplot.figure`) are retained until explicitly closed and may consume too much memory. (To control this warning, see the rcParam `figure.max_open_warning`).\n",
            "  fig = plt.figure(figsize =(10, 7))\n",
            "<ipython-input-286-a88f5d3bb086>:2: RuntimeWarning: More than 20 figures have been opened. Figures created through the pyplot interface (`matplotlib.pyplot.figure`) are retained until explicitly closed and may consume too much memory. (To control this warning, see the rcParam `figure.max_open_warning`).\n",
            "  fig = plt.figure(figsize =(10, 7))\n",
            "<ipython-input-286-a88f5d3bb086>:2: RuntimeWarning: More than 20 figures have been opened. Figures created through the pyplot interface (`matplotlib.pyplot.figure`) are retained until explicitly closed and may consume too much memory. (To control this warning, see the rcParam `figure.max_open_warning`).\n",
            "  fig = plt.figure(figsize =(10, 7))\n",
            "<ipython-input-286-a88f5d3bb086>:2: RuntimeWarning: More than 20 figures have been opened. Figures created through the pyplot interface (`matplotlib.pyplot.figure`) are retained until explicitly closed and may consume too much memory. (To control this warning, see the rcParam `figure.max_open_warning`).\n",
            "  fig = plt.figure(figsize =(10, 7))\n"
          ]
        },
        {
          "output_type": "display_data",
          "data": {
            "text/plain": [
              "<Figure size 720x504 with 1 Axes>"
            ],
            "image/png": "[encoded data removed]"
          },
          "metadata": {
            "needs_background": "light"
          }
        },
        {
          "output_type": "display_data",
          "data": {
            "text/plain": [
              "<Figure size 720x504 with 1 Axes>"
            ],
            "image/png": "[encoded data removed]"
          },
          "metadata": {
            "needs_background": "light"
          }
        },
        {
          "output_type": "display_data",
          "data": {
            "text/plain": [
              "<Figure size 720x504 with 1 Axes>"
            ],
            "image/png": "[encoded data removed]"
          },
          "metadata": {
            "needs_background": "light"
          }
        },
        {
          "output_type": "display_data",
          "data": {
            "text/plain": [
              "<Figure size 720x504 with 1 Axes>"
            ],
            "image/png": "[encoded data removed]"
          },
          "metadata": {
            "needs_background": "light"
          }
        },
        {
          "output_type": "display_data",
          "data": {
            "text/plain": [
              "<Figure size 720x504 with 1 Axes>"
            ],
            "image/png": "[encoded data removed]"
          },
          "metadata": {
            "needs_background": "light"
          }
        },
        {
          "output_type": "display_data",
          "data": {
            "text/plain": [
              "<Figure size 720x504 with 1 Axes>"
            ],
            "image/png": "[encoded data removed]"
          },
          "metadata": {
            "needs_background": "light"
          }
        },
        {
          "output_type": "display_data",
          "data": {
            "text/plain": [
              "<Figure size 720x504 with 1 Axes>"
            ],
            "image/png": "[encoded data removed]"
          },
          "metadata": {
            "needs_background": "light"
          }
        },
        {
          "output_type": "display_data",
          "data": {
            "text/plain": [
              "<Figure size 720x504 with 1 Axes>"
            ],
            "image/png": "[encoded data removed]"
          },
          "metadata": {
            "needs_background": "light"
          }
        },
        {
          "output_type": "display_data",
          "data": {
            "text/plain": [
              "<Figure size 720x504 with 1 Axes>"
            ],
            "image/png": "[encoded data removed]"
          },
          "metadata": {
            "needs_background": "light"
          }
        },
        {
          "output_type": "display_data",
          "data": {
            "text/plain": [
              "<Figure size 720x504 with 1 Axes>"
            ],
            "image/png": "[encoded data removed]"
          },
          "metadata": {
            "needs_background": "light"
          }
        },
        {
          "output_type": "display_data",
          "data": {
            "text/plain": [
              "<Figure size 720x504 with 1 Axes>"
            ],
            "image/png": "[encoded data removed]"
          },
          "metadata": {
            "needs_background": "light"
          }
        },
        {
          "output_type": "display_data",
          "data": {
            "text/plain": [
              "<Figure size 720x504 with 1 Axes>"
            ],
            "image/png": "[encoded data removed]"
          },
          "metadata": {
            "needs_background": "light"
          }
        },
        {
          "output_type": "display_data",
          "data": {
            "text/plain": [
              "<Figure size 720x504 with 1 Axes>"
            ],
            "image/png": "[encoded data removed]"
          },
          "metadata": {
            "needs_background": "light"
          }
        },
        {
          "output_type": "display_data",
          "data": {
            "text/plain": [
              "<Figure size 720x504 with 1 Axes>"
            ],
            "image/png": "[encoded data removed]"
          },
          "metadata": {
            "needs_background": "light"
          }
        },
        {
          "output_type": "display_data",
          "data": {
            "text/plain": [
              "<Figure size 720x504 with 1 Axes>"
            ],
            "image/png": "[encoded data removed]"
          },
          "metadata": {
            "needs_background": "light"
          }
        },
        {
          "output_type": "display_data",
          "data": {
            "text/plain": [
              "<Figure size 720x504 with 1 Axes>"
            ],
            "image/png": "[encoded data removed]"
          },
          "metadata": {
            "needs_background": "light"
          }
        },
        {
          "output_type": "display_data",
          "data": {
            "text/plain": [
              "<Figure size 720x504 with 1 Axes>"
            ],
            "image/png": "[encoded data removed]"
          },
          "metadata": {
            "needs_background": "light"
          }
        },
        {
          "output_type": "display_data",
          "data": {
            "text/plain": [
              "<Figure size 720x504 with 1 Axes>"
            ],
            "image/png": "[encoded data removed]"
          },
          "metadata": {
            "needs_background": "light"
          }
        },
        {
          "output_type": "display_data",
          "data": {
            "text/plain": [
              "<Figure size 720x504 with 1 Axes>"
            ],
            "image/png": "[encoded data removed]"
          },
          "metadata": {
            "needs_background": "light"
          }
        },
        {
          "output_type": "display_data",
          "data": {
            "text/plain": [
              "<Figure size 720x504 with 1 Axes>"
            ],
            "image/png": "[encoded data removed]"
          },
          "metadata": {
            "needs_background": "light"
          }
        },
        {
          "output_type": "display_data",
          "data": {
            "text/plain": [
              "<Figure size 720x504 with 1 Axes>"
            ],
            "image/png": "[encoded data removed]"
          },
          "metadata": {
            "needs_background": "light"
          }
        },
        {
          "output_type": "display_data",
          "data": {
            "text/plain": [
              "<Figure size 720x504 with 1 Axes>"
            ],
            "image/png": "[encoded data removed]"
          },
          "metadata": {
            "needs_background": "light"
          }
        },
        {
          "output_type": "display_data",
          "data": {
            "text/plain": [
              "<Figure size 720x504 with 1 Axes>"
            ],
            "image/png": "[encoded data removed]"
          },
          "metadata": {
            "needs_background": "light"
          }
        },
        {
          "output_type": "display_data",
          "data": {
            "text/plain": [
              "<Figure size 720x504 with 1 Axes>"
            ],
            "image/png": "[encoded data removed]"
          },
          "metadata": {
            "needs_background": "light"
          }
        },
        {
          "output_type": "display_data",
          "data": {
            "text/plain": [
              "<Figure size 720x504 with 1 Axes>"
            ],
            "image/png": "[encoded data removed]"
          },
          "metadata": {
            "needs_background": "light"
          }
        },
        {
          "output_type": "display_data",
          "data": {
            "text/plain": [
              "<Figure size 720x504 with 1 Axes>"
            ],
            "image/png": "[encoded data removed]"
          },
          "metadata": {
            "needs_background": "light"
          }
        },
        {
          "output_type": "display_data",
          "data": {
            "text/plain": [
              "<Figure size 720x504 with 1 Axes>"
            ],
            "image/png": "[encoded data removed]"
          },
          "metadata": {
            "needs_background": "light"
          }
        }
      ]
    },
    {
      "cell_type": "code",
      "source": [
        "plt.boxplot(x=val_mean,labels = ('val acc',))"
      ],
      "metadata": {
        "colab": {
          "base_uri": "https://localhost:8080/",
          "height": 413
        },
        "id": "QMT2CxJsCfHf",
        "outputId": "0ab4c003-848e-4a9f-ce5e-a4d8e83ccd96"
      },
      "execution_count": 297,
      "outputs": [
        {
          "output_type": "execute_result",
          "data": {
            "text/plain": [
              "{'whiskers': [<matplotlib.lines.Line2D at 0x7f55df3ab610>,\n",
              "  <matplotlib.lines.Line2D at 0x7f55df3ab2b0>],\n",
              " 'caps': [<matplotlib.lines.Line2D at 0x7f55de102790>,\n",
              "  <matplotlib.lines.Line2D at 0x7f55de102070>],\n",
              " 'boxes': [<matplotlib.lines.Line2D at 0x7f55df3abb80>],\n",
              " 'medians': [<matplotlib.lines.Line2D at 0x7f55de1021f0>],\n",
              " 'fliers': [<matplotlib.lines.Line2D at 0x7f55de102550>],\n",
              " 'means': []}"
            ]
          },
          "metadata": {},
          "execution_count": 297
        },
        {
          "output_type": "display_data",
          "data": {
            "text/plain": [
              "<Figure size 432x288 with 1 Axes>"
            ],
            "image/png": "[encoded data removed]"
          },
          "metadata": {
            "needs_background": "light"
          }
        }
      ]
    },
    {
      "cell_type": "code",
      "source": [
        "sgd_best = SGDClassifier(loss='log', learning_rate='constant',max_iter=500,eta0=0.01,alpha=0)\n"
      ],
      "metadata": {
        "id": "y2wpMYQyvlP0"
      },
      "execution_count": 298,
      "outputs": []
    },
    {
      "cell_type": "code",
      "source": [
        "sgd_best.fit(X_train,y)"
      ],
      "metadata": {
        "colab": {
          "base_uri": "https://localhost:8080/"
        },
        "id": "0S5oe5Sjwa1S",
        "outputId": "ff64d504-df83-4836-da11-9c297ceabbd8"
      },
      "execution_count": 299,
      "outputs": [
        {
          "output_type": "execute_result",
          "data": {
            "text/plain": [
              "SGDClassifier(alpha=0, eta0=0.01, learning_rate='constant', loss='log',\n",
              "              max_iter=500)"
            ]
          },
          "metadata": {},
          "execution_count": 299
        }
      ]
    },
    {
      "cell_type": "code",
      "source": [
        "pred=sgd_best.predict(X_test)"
      ],
      "metadata": {
        "id": "eaxptt-ZwgMb"
      },
      "execution_count": 301,
      "outputs": []
    },
    {
      "cell_type": "code",
      "source": [
        "pd.DataFrame(pred).to_csv('pred_lr.csv')"
      ],
      "metadata": {
        "id": "sTbtD1OawlCb"
      },
      "execution_count": 304,
      "outputs": []
    },
    {
      "cell_type": "code",
      "source": [],
      "metadata": {
        "id": "QZPSIZ5Xw1N4"
      },
      "execution_count": null,
      "outputs": []
    }
  ]
}